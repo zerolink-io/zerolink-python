{
 "cells": [
  {
   "cell_type": "code",
   "execution_count": 1,
   "id": "0e2762f4-0bc9-49f5-a4c1-0b16801dbf3d",
   "metadata": {},
   "outputs": [],
   "source": [
    "import sys\n",
    "sys.path.append(\"../\")\n",
    "import zerolink as zl"
   ]
  },
  {
   "cell_type": "code",
   "execution_count": 2,
   "id": "7c91de43-a174-4b35-8646-4e7645163425",
   "metadata": {},
   "outputs": [
    {
     "name": "stdout",
     "output_type": "stream",
     "text": [
      "2029dc23-1eab-46c3-b3bc-ec89ff4b3cb5\n"
     ]
    }
   ],
   "source": [
    "zl.api_key = zl.get_user_id()\n",
    "print(zl.api_key)"
   ]
  },
  {
   "cell_type": "code",
   "execution_count": 3,
   "id": "10f52041",
   "metadata": {},
   "outputs": [
    {
     "name": "stdout",
     "output_type": "stream",
     "text": [
      "<KnowledgeGraph name=\"demo\" session_id=\"1977\">\n"
     ]
    }
   ],
   "source": [
    "kg = zl.create_kg(\"demo\")\n",
    "print(kg)"
   ]
  },
  {
   "cell_type": "code",
   "execution_count": 4,
   "id": "4aafdc00-6919-4836-9959-ac9618b7c37c",
   "metadata": {},
   "outputs": [
    {
     "name": "stdout",
     "output_type": "stream",
     "text": [
      "What does Taylor Swift do?\n",
      "0 Actor\n",
      "1 voice actor\n",
      "2 Guitarist\n",
      "3 Record producer\n",
      "4 banjoist\n",
      "5 Songwriter\n",
      "6 film actor\n",
      "7 Composer\n",
      "8 Lyricist\n",
      "9 Pianist\n",
      "10 Public figure\n",
      "11 Singer-songwriter\n",
      "12 television actor\n",
      "13 Singer\n",
      "14 Philanthropist\n",
      "15 recording artist\n"
     ]
    }
   ],
   "source": [
    "print(\"What does Taylor Swift do?\")\n",
    "\n",
    "answers = kg.ask(\"What does Taylor Swift do?\")\n",
    "for i, answer in enumerate(answers):\n",
    "    print(i, answer)"
   ]
  },
  {
   "cell_type": "code",
   "execution_count": 5,
   "id": "7444d286-aa45-41ad-97de-a90b88d5898f",
   "metadata": {},
   "outputs": [
    {
     "name": "stdout",
     "output_type": "stream",
     "text": [
      "0 Joe Jonas\n",
      "1 Lucas Till\n",
      "2 Jake Gyllenhaal\n",
      "3 Taylor Lautner\n",
      "4 John Mayer\n",
      "5 Tom Hiddleston\n"
     ]
    }
   ],
   "source": [
    "answers = kg.ask(\"Who are the unmarried partners of Taylor Swift?\")\n",
    "for i, answer in enumerate(answers):\n",
    "    print(i, answer)"
   ]
  },
  {
   "cell_type": "code",
   "execution_count": 6,
   "id": "0f83b78e",
   "metadata": {},
   "outputs": [
    {
     "name": "stdout",
     "output_type": "stream",
     "text": [
      "0 Acoustic guitar\n",
      "1 Banjo\n",
      "2 Drum\n",
      "3 Ukulele\n",
      "4 Electric guitar\n",
      "5 Guitar\n",
      "6 upright piano\n",
      "7 Piano\n",
      "8 voice\n"
     ]
    }
   ],
   "source": [
    "answers = kg.ask(\"What instruments does Taylor Swift play?\")\n",
    "for i, answer in enumerate(answers):\n",
    "    print(i, answer)"
   ]
  },
  {
   "cell_type": "code",
   "execution_count": 8,
   "id": "d809df0d-b893-4ba8-9507-c864a2180aed",
   "metadata": {},
   "outputs": [],
   "source": [
    "e1 = zl.foundation.entity(\"Taylor Swift\")\n",
    "e2 = zl.foundation.entity(\"Travis Kelce\")\n",
    "kg.add_fact(e1, \"unmarried partner\", e2)"
   ]
  },
  {
   "cell_type": "code",
   "execution_count": 9,
   "id": "ddc3a624-8841-4bc6-a781-03e04e76ea2c",
   "metadata": {},
   "outputs": [
    {
     "data": {
      "text/plain": [
       "[<Entity id=\"E50417\" name=\"Taylor Swift\" description=\"American singer-songwriter\">]"
      ]
     },
     "execution_count": 9,
     "metadata": {},
     "output_type": "execute_result"
    }
   ],
   "source": [
    "list(zl.find_entity(\"Taylor Swift\"))"
   ]
  },
  {
   "cell_type": "code",
   "execution_count": null,
   "id": "e0c43bae-6226-4e1c-ba62-5874f1a263a5",
   "metadata": {},
   "outputs": [],
   "source": [
    "answers = kg.ask(\"What is the home stadium of Travis Kelce's team?\")\n",
    "for i, answer in enumerate(answers):\n",
    "    print(i, answer)"
   ]
  }
 ],
 "metadata": {
  "kernelspec": {
   "display_name": "Python 3 (ipykernel)",
   "language": "python",
   "name": "python3"
  },
  "language_info": {
   "codemirror_mode": {
    "name": "ipython",
    "version": 3
   },
   "file_extension": ".py",
   "mimetype": "text/x-python",
   "name": "python",
   "nbconvert_exporter": "python",
   "pygments_lexer": "ipython3",
   "version": "3.9.13"
  }
 },
 "nbformat": 4,
 "nbformat_minor": 5
}
